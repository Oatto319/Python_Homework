{
 "cells": [
  {
   "cell_type": "markdown",
   "metadata": {},
   "source": [
    "# แบบฝึกหัด บทที่ 7 โครงสร้างควบคุม"
   ]
  },
  {
   "cell_type": "code",
   "execution_count": null,
   "metadata": {},
   "outputs": [],
   "source": [
    "\"\"\"\n",
    "ชื่อ - สกุล - รหัส\n",
    "นายวิมลชัย ด่านประสิทธิ์ผล 6612732126\n",
    "\n",
    "\"\"\""
   ]
  },
  {
   "cell_type": "markdown",
   "metadata": {},
   "source": [
    "## 1.\tจงเขียนโปรแกรมเพื่อให้ได้ผลลัพธ์ดังต่อไปนี้\n",
    "\n",
    "เพื่อให้ผู้ใช้ป้อนเลขจำนวนเต็ม 3 ค่า ประกอบไปด้วย : (f)rom, (t)o และ (i)ncrement \n",
    "\n",
    "โดยโปรแกรมรับค่าทั้ง 3 เข้ามาเพื่อทำการคำนวณเพื่อสร้างเลขลำดับโดยเริ่มต้นจาก f ไปจนถึง t \n",
    "\n",
    "และจะเพิ่มจำนวนตามค่า i เช่นถ้า input เป็น f == 2, t == 26 และ i == 4 โปรแกรมจะแสดงผล: 2, 6, 10, 14, 18, 22, 26"
   ]
  },
  {
   "cell_type": "code",
   "execution_count": 2,
   "metadata": {},
   "outputs": [
    {
     "name": "stdin",
     "output_type": "stream",
     "text": [
      "Enter the starting number (f):  48\n",
      "Enter the ending number (t):  61\n",
      "Enter the increment value (i):  2\n"
     ]
    },
    {
     "name": "stdout",
     "output_type": "stream",
     "text": [
      "48, 50, 52, 54, 56, 58, 60, \n"
     ]
    }
   ],
   "source": [
    "\"\"\"\n",
    "คำตอบ\n",
    "\"\"\"\n",
    "def generate_sequence():\n",
    "   \n",
    "    f = int(input(\"Enter the starting number (f): \"))\n",
    "    t = int(input(\"Enter the ending number (t): \"))\n",
    "    i = int(input(\"Enter the increment value (i): \"))\n",
    "\n",
    "\n",
    "    if i == 0:\n",
    "        print(\"Error: Increment value cannot be zero.\")\n",
    "        return\n",
    "\n",
    "   \n",
    "    current_number = f\n",
    "    while current_number <= t:\n",
    "        print(current_number, end=\", \")\n",
    "        current_number += i\n",
    "\n",
    "    print()  \n",
    "\n",
    "generate_sequence()\n"
   ]
  },
  {
   "cell_type": "markdown",
   "metadata": {},
   "source": [
    "## 2.จงเขียนโปรแกรมเพื่อให้ได้ผลลัพธ์ดังต่อไปนี้\n",
    "\n",
    "จงเขียนโปรแกรมเพื่อหาจำนวนแฟกทอเรียล (Factorial) โดยใช้การวนซ้ำ \n",
    "\n",
    "โดยกำหนดให้ผู้ใช้ป้อนค่าจำนวนเต็ม 1 ตัวและนำค่านั้นมาหาค่าแฟกทอเรียล เช่น input = 5 \n",
    "\n",
    "โปรแกรมจะทำการคำนวณ 5 * 4 * 3 * 2 * 1 เท่ากับ 12"
   ]
  },
  {
   "cell_type": "code",
   "execution_count": 12,
   "metadata": {},
   "outputs": [
    {
     "name": "stdin",
     "output_type": "stream",
     "text": [
      "Enter an integer to find the factorial value:  51\n"
     ]
    },
    {
     "name": "stdout",
     "output_type": "stream",
     "text": [
      "Factorial value of 51 is 1551118753287382280224243016469303211063259720016986112000000000000\n"
     ]
    }
   ],
   "source": [
    "\"\"\"\n",
    "คำตอบ\n",
    "\"\"\"\n",
    "\n",
    "n = int(input(\"Enter an integer to find the factorial value: \"))\n",
    "\n",
    "factorial = 1\n",
    "\n",
    "for i in range(1, n + 1):\n",
    "    factorial *= i\n",
    "\n",
    "print(f\"Factorial value of {n} is {factorial}\")\n"
   ]
  },
  {
   "cell_type": "markdown",
   "metadata": {},
   "source": [
    "## 3.จงเขียนโปรแกรมเพื่อให้ได้ผลลัพธ์ดังต่อไปนี้\n",
    "\n",
    "ทำเขียนโปรแกรมโดยใช้การทำงานวนซ้ำ เพื่อค้นหาจำนวนเฉพาะที่อยู่ในช่วงตัวเลข 1 จนถึง 100 \n",
    "\n",
    "และทำการแสดงผลจำนวนเฉพาะทั้งหมดที่ค้นพบในช่วงตัวเลขออกมาทางหน้าจอ"
   ]
  },
  {
   "cell_type": "code",
   "execution_count": 11,
   "metadata": {},
   "outputs": [
    {
     "name": "stdout",
     "output_type": "stream",
     "text": [
      "2\n",
      "3\n",
      "5\n",
      "7\n",
      "11\n",
      "13\n",
      "17\n",
      "19\n",
      "23\n",
      "29\n",
      "31\n",
      "37\n",
      "41\n",
      "43\n",
      "47\n",
      "53\n",
      "59\n",
      "61\n",
      "67\n",
      "71\n",
      "73\n",
      "79\n",
      "83\n",
      "89\n",
      "97\n"
     ]
    }
   ],
   "source": [
    "\"\"\"\n",
    "คำตอบ\n",
    "1. สร้างชุดตัวเลขในช่วง 1 - 100\n",
    "2. กำหนดตัวแปร flag ให้มีค่าเป็นจริง เพื่อใช้ตรวจสอบว่าค่า i เป็นจำนวนเฉพาะหรือไม่\n",
    "3. สร้างชุดตัวเลข j ที่อยู่ในช่วง 2 - i\n",
    "4. นำ i มา mod ด้วย j\n",
    "    - ถ้า i mod j ได้ลงตัว แสดงว่า i ไม่ใช่จำนวนเฉพาะ\n",
    "    - กำหนดให้ flag มีค่าเป็น เท็จ\n",
    "5. ทำการตรวจสอบ flag ถ้า flag ยังเป็นจริงอยู่แสดงว่า i เป็นจำนวนเฉพาะ\n",
    "\"\"\"\n",
    "\n",
    "def is_prime(number):\n",
    "    if number < 2:\n",
    "        return False\n",
    "    for i in range(2, number):\n",
    "        if number % i == 0:\n",
    "            return False\n",
    "    return True\n",
    "\n",
    "for i in range(1, 101):\n",
    "    if is_prime(i):\n",
    "        print(i)\n"
   ]
  },
  {
   "cell_type": "markdown",
   "metadata": {},
   "source": [
    "## 4.\tจงเขียนโปรแกรมเพื่อให้ได้ผลลัพธ์ดังต่อไปนี้ "
   ]
  },
  {
   "cell_type": "code",
   "execution_count": 15,
   "metadata": {},
   "outputs": [
    {
     "name": "stdout",
     "output_type": "stream",
     "text": [
      "* \n",
      "* * \n",
      "* * * \n",
      "* * * * \n",
      "* * * * * \n",
      "* * * * \n",
      "* * * \n",
      "* * \n",
      "* \n"
     ]
    }
   ],
   "source": [
    "\"\"\"\n",
    "* \n",
    "* * \n",
    "* * * \n",
    "* * * * \n",
    "* * * * * \n",
    "* * * * \n",
    "* * * \n",
    "* * \n",
    "*\n",
    "\"\"\"\n",
    "n = 5  \n",
    "\n",
    "for i in range(1, n + 1):\n",
    "    print('* ' * i)\n",
    "\n",
    "for i in range(n - 1, 0, -1):\n",
    "    print('* ' * i)\n",
    "\n"
   ]
  },
  {
   "cell_type": "markdown",
   "metadata": {},
   "source": []
  },
  {
   "cell_type": "markdown",
   "metadata": {},
   "source": [
    "## 5. จงเขียนโปรแกรมเพื่อให้ได้ผลลัพธ์ดังต่อไปนี้ \n",
    "\n",
    "จงเขียนโปรแกรมที่พิมพ์ตัวเลขตั้งแต่ 1 ถึง 100 ยกเว้นตัวเลขที่หารด้วย 3 ลงตัว \n",
    "\n",
    "โดยให้ใช้คำสั่ง continue เช่น 1 2 4 5 7 8 10 11 … เป็นต้น"
   ]
  },
  {
   "cell_type": "code",
   "execution_count": 10,
   "metadata": {},
   "outputs": [
    {
     "name": "stdout",
     "output_type": "stream",
     "text": [
      "1\n",
      "2\n",
      "4\n",
      "5\n",
      "7\n",
      "8\n",
      "10\n",
      "11\n",
      "13\n",
      "14\n",
      "16\n",
      "17\n",
      "19\n",
      "20\n",
      "22\n",
      "23\n",
      "25\n",
      "26\n",
      "28\n",
      "29\n",
      "31\n",
      "32\n",
      "34\n",
      "35\n",
      "37\n",
      "38\n",
      "40\n",
      "41\n",
      "43\n",
      "44\n",
      "46\n",
      "47\n",
      "49\n",
      "50\n",
      "52\n",
      "53\n",
      "55\n",
      "56\n",
      "58\n",
      "59\n",
      "61\n",
      "62\n",
      "64\n",
      "65\n",
      "67\n",
      "68\n",
      "70\n",
      "71\n",
      "73\n",
      "74\n",
      "76\n",
      "77\n",
      "79\n",
      "80\n",
      "82\n",
      "83\n",
      "85\n",
      "86\n",
      "88\n",
      "89\n",
      "91\n",
      "92\n",
      "94\n",
      "95\n",
      "97\n",
      "98\n",
      "100\n"
     ]
    }
   ],
   "source": [
    "\"\"\"\n",
    "คำตอบ\n",
    "\"\"\"\n",
    "for i in range(1, 101):\n",
    "    if i % 3 == 0:\n",
    "        continue  \n",
    "    print(i)\n"
   ]
  },
  {
   "cell_type": "code",
   "execution_count": 13,
   "metadata": {
    "tags": []
   },
   "outputs": [
    {
     "name": "stdout",
     "output_type": "stream",
     "text": [
      "2\n",
      "4\n",
      "6\n",
      "8\n",
      "10\n",
      "12\n",
      "14\n",
      "16\n",
      "18\n",
      "20\n",
      "22\n",
      "24\n",
      "26\n",
      "28\n",
      "30\n",
      "32\n",
      "34\n",
      "36\n",
      "38\n",
      "40\n",
      "42\n",
      "44\n",
      "46\n",
      "48\n",
      "50\n"
     ]
    }
   ],
   "source": [
    "#จงเเสดงเลขคู่ ในช่วง 1-50\n",
    "\n",
    "\n",
    "for number in range(1, 51):\n",
    "    if number % 2 == 0:\n",
    "        print(number)\n",
    "\n"
   ]
  },
  {
   "cell_type": "markdown",
   "metadata": {},
   "source": [
    "## 6.จงเขียนโปรแกรมเพื่อให้ได้ผลลัพธ์ดังต่อไปนี้\n",
    "\n",
    "จงเขียนโปรแกรมที่แสดงเลขจำนวน 1 ถึง 50 โดยสำหรับเลขจำนวนใดที่หารด้วย 3 ลงตัวให้พิมพ์ Fizz \n",
    "\n",
    "และเลขจำนวนใดที่หารด้วย 5 ลงตัวให้พิมพ์ Buzz และเลขใดที่หารลงตัวทั้ง 3 และ 5 ให้พิมพ์ FizzBuzz "
   ]
  },
  {
   "cell_type": "code",
   "execution_count": 6,
   "metadata": {},
   "outputs": [
    {
     "name": "stdout",
     "output_type": "stream",
     "text": [
      "1\n",
      "2\n",
      "Fizz\n",
      "4\n",
      "Buzz\n",
      "Fizz\n",
      "7\n",
      "8\n",
      "Fizz\n",
      "Buzz\n",
      "11\n",
      "Fizz\n",
      "13\n",
      "14\n",
      "FizzBuzz\n",
      "16\n",
      "17\n",
      "Fizz\n",
      "19\n",
      "Buzz\n",
      "Fizz\n",
      "22\n",
      "23\n",
      "Fizz\n",
      "Buzz\n",
      "26\n",
      "Fizz\n",
      "28\n",
      "29\n",
      "FizzBuzz\n",
      "31\n",
      "32\n",
      "Fizz\n",
      "34\n",
      "Buzz\n",
      "Fizz\n",
      "37\n",
      "38\n",
      "Fizz\n",
      "Buzz\n",
      "41\n",
      "Fizz\n",
      "43\n",
      "44\n",
      "FizzBuzz\n",
      "46\n",
      "47\n",
      "Fizz\n",
      "49\n",
      "Buzz\n"
     ]
    }
   ],
   "source": [
    "\"\"\"\n",
    "เช่น\n",
    "\n",
    "1\n",
    "2\n",
    "Fizz\n",
    "4\n",
    "Buzz\n",
    "\n",
    "---------\n",
    "คำตอบ\n",
    "\"\"\"\n",
    "for i in range(1, 51):\n",
    "    if i % 3 == 0 and i % 5 == 0:\n",
    "        print(\"FizzBuzz\")\n",
    "    elif i % 3 == 0:\n",
    "        print(\"Fizz\")\n",
    "    elif i % 5 == 0:\n",
    "        print(\"Buzz\")\n",
    "    else:\n",
    "        print(i)\n"
   ]
  },
  {
   "cell_type": "markdown",
   "metadata": {},
   "source": [
    "## 7.จงเขียนโปรแกรมเพื่อให้ได้ผลลัพธ์ดังต่อไปนี้\n",
    "\n",
    "จงเขียนโปรแกรมเพื่อแสดงรูปแบบต่อไปนี้ โดยการรับค่าจำนวนสูงสุดจากผู้ใช้"
   ]
  },
  {
   "cell_type": "code",
   "execution_count": 14,
   "metadata": {},
   "outputs": [
    {
     "name": "stdin",
     "output_type": "stream",
     "text": [
      "Enter the maximum amount:  5\n"
     ]
    },
    {
     "name": "stdout",
     "output_type": "stream",
     "text": [
      "1\n",
      "22\n",
      "333\n",
      "4444\n",
      "55555\n"
     ]
    }
   ],
   "source": [
    "\"\"\"\n",
    "ป้อนเลข 9\n",
    "\n",
    "1\n",
    "22\n",
    "333\n",
    "4444\n",
    "55555\n",
    "666666\n",
    "7777777\n",
    "88888888\n",
    "999999999\n",
    "\n",
    "คำตอบ\n",
    "\"\"\"\n",
    "num_rows = int(input(\"Enter the maximum amount: \"))\n",
    "\n",
    "for i in range(1, num_rows + 1):\n",
    "    print(str(i) * i)\n"
   ]
  },
  {
   "cell_type": "code",
   "execution_count": null,
   "metadata": {},
   "outputs": [],
   "source": []
  },
  {
   "cell_type": "code",
   "execution_count": null,
   "metadata": {},
   "outputs": [],
   "source": []
  }
 ],
 "metadata": {
  "interpreter": {
   "hash": "40d3a090f54c6569ab1632332b64b2c03c39dcf918b08424e98f38b5ae0af88f"
  },
  "kernelspec": {
   "display_name": "Python 3 (ipykernel)",
   "language": "python",
   "name": "python3"
  },
  "language_info": {
   "codemirror_mode": {
    "name": "ipython",
    "version": 3
   },
   "file_extension": ".py",
   "mimetype": "text/x-python",
   "name": "python",
   "nbconvert_exporter": "python",
   "pygments_lexer": "ipython3",
   "version": "3.11.5"
  }
 },
 "nbformat": 4,
 "nbformat_minor": 4
}
