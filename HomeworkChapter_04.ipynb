{
 "cells": [
  {
   "cell_type": "markdown",
   "metadata": {},
   "source": [
    "# แบบฝึกหัดบทที่ 4 พื้นฐานโปรแกรมไพธอน"
   ]
  },
  {
   "cell_type": "code",
   "execution_count": null,
   "metadata": {},
   "outputs": [],
   "source": [
    "\"\"\" \n",
    "ชื่อ - สกุล - รหัสนักศึกษา\n",
    "\n",
    "ปรีชา วิมลชัย ด่านประสิทธิ์ผล 6612732126\n",
    "\"\"\""
   ]
  },
  {
   "cell_type": "markdown",
   "metadata": {},
   "source": [
    "## 1. จงอธิบายความหมายของคำว่า Syntax"
   ]
  },
  {
   "cell_type": "markdown",
   "metadata": {},
   "source": [
    "# คำตอบ\n",
    "หลักไวยากรณ์ คือ ข้อกำหนดในการเขียนโปรแกรมที่ตัวแปรภาษาสามารถประมวลผล และเข้าใจได้\n"
   ]
  },
  {
   "cell_type": "markdown",
   "metadata": {},
   "source": [
    "## 2.จงอธิบายความหมายของคำว่า Semantics"
   ]
  },
  {
   "cell_type": "code",
   "execution_count": null,
   "metadata": {},
   "outputs": [],
   "source": [
    "# คำตอบ\n",
    "สัญลักษณ์ + semaino หมายถึง การให้ความหมาย รวมกันหมายถึง ความหมายของสัญลักษณ์ คือตัวภาษา ดังนั้น วิชาที่ว่าด้วยการศึกษาความหมายของภาษา หรือ อรรถศาสตร์\n",
    "\n"
   ]
  },
  {
   "cell_type": "markdown",
   "metadata": {},
   "source": [
    "## 3.Identifiers คืออะไร"
   ]
  },
  {
   "cell_type": "code",
   "execution_count": null,
   "metadata": {},
   "outputs": [],
   "source": [
    "# คำตอบ\n",
    "คำหรือชื่อที่ใช้ในโปรแกรมคอมพิวเตอร์เพื่อระบุหรือระบุตำแหน่งของตัวแปร, ฟังก์ชัน, คลาส, โมดูล, หรือสิ่งอื่นที่มีตัวแทนในโค้ด. \n",
    "Identifiers ใช้เพื่อระบุและอ้างถึงสิ่งต่าง ๆ ในโปรแกรม และมีกฎและข้อจำกัดที่ต้องปฏิบัติตามในการตั้งชื่อโดยทั่วไป \n",
    "รหัสที่เขียนขึ้นเพื่อแทนสิ่งนั้นจะใช้ identifier เพื่ออ้างอิงสิ่งนั้นในโค้ด.\n"
   ]
  },
  {
   "cell_type": "markdown",
   "metadata": {},
   "source": [
    "## 4.คำสงวนในภาษาไพธอนคืออะไร และมีทั้งหมดกี่คำ"
   ]
  },
  {
   "cell_type": "code",
   "execution_count": null,
   "metadata": {},
   "outputs": [],
   "source": [
    "# คำตอบ\n",
    "ภาษาไพธอนไม่มีคำสงวน (reserved words) แบบที่มีในภาษาอื่น ๆ ซึ่งถูกสงวนไว้เพื่อใช้ในเชิงเฉพาะ แต่มีคำที่ถูกใช้เป็นคีย์เวิร์ด (keywords) ที่มีหมายความที่ถูกกำหนดล่วงหน้าในภาษาไพธอน ซึ่งใช้ในการควบคุมโครงสร้างของโปรแกรม และไม่สามารถใช้เป็นชื่อตัวแปรหรือฟังก์ชันได้ คำสำคัญเหล่านี้คือ:\n",
    "\n",
    "False\n",
    "None\n",
    "True\n",
    "and\n",
    "as\n",
    "assert\n",
    "async\n",
    "await\n",
    "break\n",
    "class\n",
    "continue\n",
    "def\n",
    "del\n",
    "elif\n",
    "else\n",
    "except\n",
    "finally\n",
    "for\n",
    "from\n",
    "global\n",
    "if\n",
    "import\n",
    "in\n",
    "is\n",
    "lambda\n",
    "nonlocal\n",
    "not\n",
    "or\n",
    "pass\n",
    "raise\n",
    "return\n",
    "try\n",
    "while\n",
    "with\n",
    "yield\n",
    "มีรวมทั้งหมด 35 คีย์เวิร์ดในภาษาไพธอนที่ถูกสงวนไว้เพื่อใช้ในการควบคุมโครงสร้างของโปรแกรมและไม่สามารถใช้เป็นชื่อตัวแปรหรือฟังก์ชันได้.\n",
    "\n",
    "\n"
   ]
  },
  {
   "cell_type": "markdown",
   "metadata": {},
   "source": [
    "## 5.จงเขียนโปรแกรมไพธอนเพื่อรับข้อมูล ที่เป็นชื่อผู้ใช้งานจากแป้นพิมพ์และแสดงออกทางหน้าจอ"
   ]
  },
  {
   "cell_type": "code",
   "execution_count": 3,
   "metadata": {},
   "outputs": [
    {
     "name": "stdin",
     "output_type": "stream",
     "text": [
      "your name Wimolchai Danpasitphon\n"
     ]
    },
    {
     "name": "stdout",
     "output_type": "stream",
     "text": [
      "Wimolchai Danpasitphon\n"
     ]
    }
   ],
   "source": [
    "# พิมพ์โค้ดโปรแกรมด้านล่างนี้\n",
    "a = input(\"your name\")\n",
    "print(a)"
   ]
  },
  {
   "cell_type": "markdown",
   "metadata": {},
   "source": [
    "## 6.จงเขียนโปรแกรมเพื่อแสดงค่าของ pi คือ 3.14159 ออกทางหน้าจอโดยทำการกำหนดรูปแบบในการแสดงผลดังต่อไปนี้\n",
    "\n",
    "- pi = 3\n",
    "- pi = 3.14\n",
    "- pi = 3.1416\n"
   ]
  },
  {
   "cell_type": "code",
   "execution_count": 1,
   "metadata": {},
   "outputs": [
    {
     "name": "stdout",
     "output_type": "stream",
     "text": [
      "pi : 3\n",
      "pi : 3.14\n",
      "pi : 3.1416\n"
     ]
    }
   ],
   "source": [
    "# พิมพ์โค้ดโปรแกรมด้านล่างนี้\n",
    "pi=3.14159\n",
    "print(\"pi : {0:.0f}\".format (pi))\n",
    "print(\"pi : {0:.2f}\".format (pi))\n",
    "print(\"pi : {0:.4f}\".format (pi))\n"
   ]
  },
  {
   "cell_type": "markdown",
   "metadata": {},
   "source": []
  },
  {
   "cell_type": "markdown",
   "metadata": {},
   "source": [
    "## 7.\tจงเขียนโปรแกรมที่แสดงคำว่า \"dog\", \"cat\", \"bat\" ออกทางหน้าจอ โดยกำหนดรูปแบบในการแสดงดังต่อไปนี้"
   ]
  },
  {
   "cell_type": "code",
   "execution_count": null,
   "metadata": {},
   "outputs": [],
   "source": [
    "\"\"\" \n",
    "|dog       |   cat    |       bat| \n",
    "\"\"\""
   ]
  },
  {
   "cell_type": "code",
   "execution_count": 4,
   "metadata": {},
   "outputs": [
    {
     "name": "stdout",
     "output_type": "stream",
     "text": [
      "|dog       |   cat    |       bat|\n"
     ]
    }
   ],
   "source": [
    "# พิมพ์โค้ดโปรแกรมด้านล่างนี้\n",
    "\n",
    "print(\"|{0:<10}|{1:^10}|{2:>10}|\".format(\"dog\",\"cat\",\"bat\"))\n"
   ]
  },
  {
   "cell_type": "markdown",
   "metadata": {},
   "source": [
    "## 8.\tจงเขียนโปรแกรมที่แสดงคำว่า \"dog\", \"cat\", \"bat\" ออกทางหน้าจอ โดยกำหนดรูปแบบในการแสดงดังต่อไปนี้"
   ]
  },
  {
   "cell_type": "code",
   "execution_count": null,
   "metadata": {},
   "outputs": [],
   "source": [
    "\"\"\" \n",
    "|dog*******|***cat****|*******bat| \n",
    "\"\"\""
   ]
  },
  {
   "cell_type": "code",
   "execution_count": 5,
   "metadata": {},
   "outputs": [
    {
     "name": "stdout",
     "output_type": "stream",
     "text": [
      "|dog*******|***cat****|*******bat|\n"
     ]
    }
   ],
   "source": [
    "# พิมพ์โค้ดโปรแกรมด้านล่างนี้\n",
    "print(\"|{0:*<10}|{1:*^10}|{2:*>10}|\".format(\"dog\",\"cat\",\"bat\"))"
   ]
  }
 ],
 "metadata": {
  "interpreter": {
   "hash": "40d3a090f54c6569ab1632332b64b2c03c39dcf918b08424e98f38b5ae0af88f"
  },
  "kernelspec": {
   "display_name": "Python 3 (ipykernel)",
   "language": "python",
   "name": "python3"
  },
  "language_info": {
   "codemirror_mode": {
    "name": "ipython",
    "version": 3
   },
   "file_extension": ".py",
   "mimetype": "text/x-python",
   "name": "python",
   "nbconvert_exporter": "python",
   "pygments_lexer": "ipython3",
   "version": "3.11.5"
  }
 },
 "nbformat": 4,
 "nbformat_minor": 4
}
