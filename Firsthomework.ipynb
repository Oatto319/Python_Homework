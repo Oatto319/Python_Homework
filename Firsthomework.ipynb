{
 "cells": [
  {
   "cell_type": "code",
   "execution_count": 1,
   "id": "cd84189a-c4e1-4abb-af4a-616c3d9c7964",
   "metadata": {
    "tags": []
   },
   "outputs": [
    {
     "name": "stdout",
     "output_type": "stream",
     "text": [
      "นายวิมลชัย ด่านประสิทธิ์ผล 6612732126\n"
     ]
    }
   ],
   "source": [
    "print(\"นายวิมลชัย ด่านประสิทธิ์ผล 6612732126\")"
   ]
  },
  {
   "cell_type": "code",
   "execution_count": null,
   "id": "18666577-5c7c-493b-af5a-aec60e005380",
   "metadata": {},
   "outputs": [],
   "source": []
  }
 ],
 "metadata": {
  "kernelspec": {
   "display_name": "Python 3 (ipykernel)",
   "language": "python",
   "name": "python3"
  },
  "language_info": {
   "codemirror_mode": {
    "name": "ipython",
    "version": 3
   },
   "file_extension": ".py",
   "mimetype": "text/x-python",
   "name": "python",
   "nbconvert_exporter": "python",
   "pygments_lexer": "ipython3",
   "version": "3.11.5"
  }
 },
 "nbformat": 4,
 "nbformat_minor": 5
}
